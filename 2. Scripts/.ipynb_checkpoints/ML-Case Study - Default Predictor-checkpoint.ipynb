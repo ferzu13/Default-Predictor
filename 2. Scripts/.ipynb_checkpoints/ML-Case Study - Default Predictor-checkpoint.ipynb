{
 "cells": [
  {
   "cell_type": "code",
   "execution_count": 1,
   "metadata": {},
   "outputs": [],
   "source": [
    "import numpy as np\n",
    "import pandas as pd\n",
    "pd.set_option('display.max_columns', 500)\n",
    "\n",
    "import pickle\n",
    "\n",
    "import matplotlib.pyplot as plt\n",
    "import seaborn as sns\n",
    "\n",
    "from imblearn.over_sampling  import SMOTE\n",
    "from imblearn.pipeline import Pipeline as PipelineImb\n",
    "\n",
    "from sklearn import metrics\n",
    "from sklearn.linear_model import LogisticRegression\n",
    "from sklearn.ensemble import RandomForestClassifier\n",
    "from sklearn.preprocessing import OneHotEncoder, MinMaxScaler\n",
    "from sklearn.impute import SimpleImputer\n",
    "from sklearn.model_selection import train_test_split, GridSearchCV"
   ]
  },
  {
   "cell_type": "code",
   "execution_count": 2,
   "metadata": {
    "scrolled": true
   },
   "outputs": [],
   "source": [
    "# Taken from the PDF\n",
    "features_cat = {'uuid' :   'text',\n",
    "                'default' :   'categorical',\n",
    "                'account_amount_added_12_24m' :   'numeric',\n",
    "                'account_days_in_dc_12_24m' :   'numeric',\n",
    "                'account_days_in_rem_12_24m' :   'numeric',\n",
    "                'account_days_in_term_12_24m' :   'numeric',\n",
    "                'account_incoming_debt_vs_paid_0_24m' :   'numeric',\n",
    "                'account_status' :   'categorical',\n",
    "                'account_worst_status_0_3m' :   'categorical',\n",
    "                'account_worst_status_12_24m' :   'categorical',\n",
    "                'account_worst_status_3_6m' :   'categorical',\n",
    "                'account_worst_status_6_12m' :   'categorical',\n",
    "                'age' :   'numeric',\n",
    "                'avg_payment_span_0_12m' :   'numeric',\n",
    "                'avg_payment_span_0_3m' :   'numeric',\n",
    "                'merchant_category' :   'categorical',\n",
    "                'merchant_group' :   'categorical',\n",
    "                'has_paid' :   'boolean',\n",
    "                'max_paid_inv_0_12m' :   'numeric',\n",
    "                'max_paid_inv_0_24m' :   'numeric',\n",
    "                'name_in_email' :   'categorical',\n",
    "                'num_active_div_by_paid_inv_0_12m' :   'numeric',\n",
    "                'num_active_inv' :   'numeric',\n",
    "                'num_arch_dc_0_12m' :   'numeric',\n",
    "                'num_arch_dc_12_24m' :   'numeric',\n",
    "                'num_arch_ok_0_12m' :   'numeric',\n",
    "                'num_arch_ok_12_24m' :   'numeric',\n",
    "                'num_arch_rem_0_12m' :   'numeric',\n",
    "                'num_arch_written_off_0_12m' :   'numeric',\n",
    "                'num_arch_written_off_12_24m' :   'numeric',\n",
    "                'num_unpaid_bills' :   'numeric',\n",
    "                'status_last_archived_0_24m' :   'categorical',\n",
    "                'status_2nd_last_archived_0_24m' :   'categorical',\n",
    "                'status_3rd_last_archived_0_24m' :   'categorical',\n",
    "                'status_max_archived_0_6_months' :   'categorical',\n",
    "                'status_max_archived_0_12_months' :   'categorical',\n",
    "                'status_max_archived_0_24_months' :   'categorical',\n",
    "                'recovery_debt' :   'numeric',\n",
    "                'sum_capital_paid_account_0_12m' :   'numeric',\n",
    "                'sum_capital_paid_account_12_24m' :   'numeric',\n",
    "                'sum_paid_inv_0_12m' :   'numeric',\n",
    "                'time_hours' :   'numeric',\n",
    "                'worst_status_active_inv' :   'categorical'}"
   ]
  },
  {
   "cell_type": "code",
   "execution_count": 3,
   "metadata": {
    "scrolled": true
   },
   "outputs": [],
   "source": [
    "all_data = pd.read_csv('../1. Input/dataset.csv', delimiter=';')\n",
    "all_data['has_paid'] = all_data['has_paid'] * 1\n",
    "cat_fields = ['merchant_category', 'merchant_group']"
   ]
  },
  {
   "cell_type": "code",
   "execution_count": 4,
   "metadata": {},
   "outputs": [],
   "source": [
    "# Separating the data based on the default information availability.\n",
    "\n",
    "mask_no_default_info = all_data.default.isna()\n",
    "\n",
    "dataset = all_data.loc[~mask_no_default_info]\n",
    "data_for_prediction = all_data.loc[mask_no_default_info] \n",
    "\n",
    "n, _ = dataset.shape # Storing as variable the total number of rows"
   ]
  },
  {
   "cell_type": "code",
   "execution_count": 5,
   "metadata": {},
   "outputs": [
    {
     "name": "stdout",
     "output_type": "stream",
     "text": [
      "The total number of rows of the Dataset to be used is: 89976\n"
     ]
    }
   ],
   "source": [
    "print( f'The total number of rows of the Dataset to be used is: {n}')"
   ]
  },
  {
   "cell_type": "markdown",
   "metadata": {},
   "source": [
    "Lets first check how balance the \"default\" class is:"
   ]
  },
  {
   "cell_type": "code",
   "execution_count": 6,
   "metadata": {},
   "outputs": [
    {
     "data": {
      "text/plain": [
       "0.0    0.985685\n",
       "1.0    0.014315\n",
       "Name: default, dtype: float64"
      ]
     },
     "execution_count": 6,
     "metadata": {},
     "output_type": "execute_result"
    }
   ],
   "source": [
    "dataset['default'].value_counts() / n"
   ]
  },
  {
   "cell_type": "markdown",
   "metadata": {},
   "source": [
    "We can directly conclude that we are working with imbalance classes and therefore some oversampling would need to be performed on later stage."
   ]
  },
  {
   "cell_type": "code",
   "execution_count": 7,
   "metadata": {},
   "outputs": [],
   "source": [
    "assert len(dataset.uuid.unique()) == n"
   ]
  },
  {
   "cell_type": "markdown",
   "metadata": {},
   "source": [
    "After first visual inspection I observed a lot of NAs whithin the dataset, so a first check on that seems reasonable. Furthermore, some fields could directly be excluded. For example since the \"uuid\" is unique then no further investigation on it is required and therefore it can be removed. Some other fields such as \"time_hours\" or \"name_in_email\" look uninformative to me. I thought for a long time bining the \"age\" feature but cannot think of a meaningfull reason why to put a cut point."
   ]
  },
  {
   "cell_type": "code",
   "execution_count": 8,
   "metadata": {
    "scrolled": true
   },
   "outputs": [],
   "source": [
    "dataset = dataset.drop(['uuid', 'time_hours', 'name_in_email'], axis=1)"
   ]
  },
  {
   "cell_type": "code",
   "execution_count": 9,
   "metadata": {
    "scrolled": true
   },
   "outputs": [
    {
     "name": "stdout",
     "output_type": "stream",
     "text": [
      "account_days_in_dc_12_24m              0.118732\n",
      "account_days_in_rem_12_24m             0.118732\n",
      "account_days_in_term_12_24m            0.118732\n",
      "account_incoming_debt_vs_paid_0_24m    0.593014\n",
      "account_status                         0.543856\n",
      "account_worst_status_0_3m              0.543856\n",
      "account_worst_status_12_24m            0.667456\n",
      "account_worst_status_3_6m              0.577243\n",
      "account_worst_status_6_12m             0.603639\n",
      "avg_payment_span_0_12m                 0.238597\n",
      "avg_payment_span_0_3m                  0.493265\n",
      "num_active_div_by_paid_inv_0_12m       0.229595\n",
      "num_arch_written_off_0_12m             0.181215\n",
      "num_arch_written_off_12_24m            0.181215\n",
      "worst_status_active_inv                0.695074\n",
      "dtype: float64\n"
     ]
    }
   ],
   "source": [
    "prc_missing_values = dataset.isna().sum() / n\n",
    "print(prc_missing_values[prc_missing_values > 0])"
   ]
  },
  {
   "cell_type": "markdown",
   "metadata": {},
   "source": [
    "Some variables such as \"account_worst_status_12_24m\" is missing more than 60% of the data. It looks reasonable to exclude such variable but it is unclear what to do when only a 12% is missing, since excluding this variable will result on huge loss of information. On a rule-of-thumb basis I will exclude all variables with >25% missing data."
   ]
  },
  {
   "cell_type": "code",
   "execution_count": 10,
   "metadata": {},
   "outputs": [],
   "source": [
    "rule_of_thumb = 0.25\n",
    "fields_to_exclude = prc_missing_values[prc_missing_values>rule_of_thumb].index.to_list()"
   ]
  },
  {
   "cell_type": "code",
   "execution_count": 11,
   "metadata": {},
   "outputs": [],
   "source": [
    "dataset = dataset.drop(fields_to_exclude, axis=1)"
   ]
  },
  {
   "cell_type": "code",
   "execution_count": 12,
   "metadata": {},
   "outputs": [
    {
     "data": {
      "text/plain": [
       "account_days_in_dc_12_24m           0.118732\n",
       "account_days_in_rem_12_24m          0.118732\n",
       "account_days_in_term_12_24m         0.118732\n",
       "avg_payment_span_0_12m              0.238597\n",
       "num_active_div_by_paid_inv_0_12m    0.229595\n",
       "num_arch_written_off_0_12m          0.181215\n",
       "num_arch_written_off_12_24m         0.181215\n",
       "dtype: float64"
      ]
     },
     "execution_count": 12,
     "metadata": {},
     "output_type": "execute_result"
    }
   ],
   "source": [
    "prc_missing_values[(prc_missing_values<rule_of_thumb)&(prc_missing_values>0)]"
   ]
  },
  {
   "cell_type": "markdown",
   "metadata": {},
   "source": [
    "Below I will just run a non-tuned Random Forest just to get an ordering of the Features by AUC and discard all features with an AUC below 0.60"
   ]
  },
  {
   "cell_type": "code",
   "execution_count": 13,
   "metadata": {
    "scrolled": true
   },
   "outputs": [
    {
     "name": "stdout",
     "output_type": "stream",
     "text": [
      "col=account_amount_added_12_24m, auc=0.4881417799999151\n",
      "col=account_days_in_dc_12_24m, auc=0.5112894333973682\n",
      "col=account_days_in_rem_12_24m, auc=0.4876757248451077\n",
      "col=account_days_in_term_12_24m, auc=0.5124240380986306\n",
      "col=age, auc=0.6027328261431922\n",
      "col=avg_payment_span_0_12m, auc=0.7290152199449553\n",
      "col=merchant_category, auc=0.6606610646752243\n",
      "col=merchant_group, auc=0.660735065243481\n",
      "col=has_paid, auc=0.5345724717886086\n",
      "col=max_paid_inv_0_12m, auc=0.6888216734730226\n",
      "col=max_paid_inv_0_24m, auc=0.6746859746659373\n",
      "col=num_active_div_by_paid_inv_0_12m, auc=0.5959712097502641\n",
      "col=num_active_inv, auc=0.5519584706266514\n",
      "col=num_arch_dc_0_12m, auc=0.5857586012408348\n",
      "col=num_arch_dc_12_24m, auc=0.5709187308372454\n",
      "col=num_arch_ok_0_12m, auc=0.7385356368925698\n",
      "col=num_arch_ok_12_24m, auc=0.7089392262381843\n",
      "col=num_arch_rem_0_12m, auc=0.5291825163585783\n",
      "col=num_arch_written_off_0_12m, auc=0.4981485015415018\n",
      "col=num_arch_written_off_12_24m, auc=0.5000564015792441\n",
      "col=num_unpaid_bills, auc=0.6189359820871978\n",
      "col=status_last_archived_0_24m, auc=0.7318755857494836\n",
      "col=status_2nd_last_archived_0_24m, auc=0.7127425161889495\n",
      "col=status_3rd_last_archived_0_24m, auc=0.715365507677824\n",
      "col=status_max_archived_0_6_months, auc=0.7123466449541791\n",
      "col=status_max_archived_0_12_months, auc=0.7365424983779244\n",
      "col=status_max_archived_0_24_months, auc=0.7382812996959403\n",
      "col=recovery_debt, auc=0.5073494862367424\n",
      "col=sum_capital_paid_account_0_12m, auc=0.5208181197494582\n",
      "col=sum_capital_paid_account_12_24m, auc=0.5060935969365038\n",
      "col=sum_paid_inv_0_12m, auc=0.6624541472123625\n"
     ]
    }
   ],
   "source": [
    "y = dataset['default']\n",
    "\n",
    "list_models = list()\n",
    "for j, col in enumerate(dataset.drop('default', axis=1)):\n",
    "    _X = pd.DataFrame(dataset[col]).reset_index(drop=True)\n",
    "    if col in cat_fields:\n",
    "        enc = OneHotEncoder(categories=\"auto\", handle_unknown=\"error\", drop='first', sparse=False)\n",
    "        _X_ohe = pd.DataFrame(enc.fit_transform(pd.DataFrame(_X)), columns=enc.get_feature_names_out()).reset_index(drop=True)\n",
    "        _X = pd.concat([_X.drop(columns=col, axis=1), _X_ohe], axis=1)\n",
    "\n",
    "    x_train, x_test, y_train, y_test = train_test_split(_X, y, train_size=0.8, random_state=42)\n",
    "    \n",
    "\n",
    "    _model = PipelineImb([\n",
    "\n",
    "             ('Imputer', SimpleImputer(missing_values=np.nan, strategy=\"median\")), \n",
    "             ('Scaling', MinMaxScaler(clip=True)),\n",
    "             ('oversampling', SMOTE(random_state=42)), \n",
    "             ('RF', RandomForestClassifier(n_jobs=-1, oob_score = True, random_state=42))\n",
    "\n",
    "                ])\n",
    "\n",
    "    _model.fit(x_train, y_train)\n",
    "\n",
    "    y_pred_proba = _model.predict_proba(x_test)[::,1]\n",
    "    auc = metrics.roc_auc_score(y_test, y_pred_proba)\n",
    "    print(f'col={col}, auc={auc}')\n",
    "    \n",
    "    list_models.append((col, auc))\n",
    "\n",
    "df_list_models = pd.DataFrame(list_models, columns=['feature', 'AUC']).sort_values(by='AUC')\n",
    "features = list(df_list_models.loc[df_list_models['AUC']>0.6]['feature'])"
   ]
  },
  {
   "cell_type": "code",
   "execution_count": 14,
   "metadata": {},
   "outputs": [
    {
     "name": "stdout",
     "output_type": "stream",
     "text": [
      "Selected Features: ['age', 'num_unpaid_bills', 'merchant_category', 'merchant_group', 'sum_paid_inv_0_12m', 'max_paid_inv_0_24m', 'max_paid_inv_0_12m', 'num_arch_ok_12_24m', 'status_max_archived_0_6_months', 'status_2nd_last_archived_0_24m', 'status_3rd_last_archived_0_24m', 'avg_payment_span_0_12m', 'status_last_archived_0_24m', 'status_max_archived_0_12_months', 'status_max_archived_0_24_months', 'num_arch_ok_0_12m']\n"
     ]
    }
   ],
   "source": [
    "print('Selected Features:', features)"
   ]
  },
  {
   "cell_type": "markdown",
   "metadata": {},
   "source": [
    "Now we will check at the pearson correlation matrix of the float types variables"
   ]
  },
  {
   "cell_type": "code",
   "execution_count": 15,
   "metadata": {
    "scrolled": true
   },
   "outputs": [],
   "source": [
    "num_cols = [col for col in features if features_cat[col]=='numeric']\n",
    "corr = dataset[num_cols].corr('pearson')\n",
    "mask = np.triu(corr)"
   ]
  },
  {
   "cell_type": "code",
   "execution_count": 16,
   "metadata": {},
   "outputs": [
    {
     "data": {
      "image/png": "[encoded data removed]",
      "text/plain": [
       "<Figure size 1080x1080 with 2 Axes>"
      ]
     },
     "metadata": {
      "needs_background": "light"
     },
     "output_type": "display_data"
    }
   ],
   "source": [
    "plt.figure(figsize=(15, 15))\n",
    "ax = sns.heatmap(\n",
    "    corr,\n",
    "    vmin=-1, vmax=1, center=0,\n",
    "    cmap=sns.diverging_palette(20, 220, n=100),\n",
    "    square=True,\n",
    "    mask=mask\n",
    ")\n",
    "plt.title('Correlation Matrix for numerical features')\n",
    "plt.show()"
   ]
  },
  {
   "cell_type": "code",
   "execution_count": 17,
   "metadata": {},
   "outputs": [],
   "source": [
    "corr_spear = dataset[['status_2nd_last_archived_0_24m',\n",
    "                        'status_3rd_last_archived_0_24m',\n",
    "                        'status_last_archived_0_24m',\n",
    "                        'status_max_archived_0_12_months',\n",
    "                        'status_max_archived_0_24_months',\n",
    "                        'status_max_archived_0_6_months']].corr('spearman')\n",
    "\n",
    "mask = np.triu(corr_spear)"
   ]
  },
  {
   "cell_type": "code",
   "execution_count": 18,
   "metadata": {
    "scrolled": false
   },
   "outputs": [
    {
     "data": {
      "image/png": "[encoded data removed]",
      "text/plain": [
       "<Figure size 1080x1080 with 2 Axes>"
      ]
     },
     "metadata": {
      "needs_background": "light"
     },
     "output_type": "display_data"
    }
   ],
   "source": [
    "plt.figure(figsize=(15, 15))\n",
    "ax = sns.heatmap(\n",
    "    corr_spear, \n",
    "    vmin=-1, vmax=1, center=0,\n",
    "    cmap=sns.diverging_palette(20, 220, n=100),\n",
    "    square=True,\n",
    "    mask=mask\n",
    ")\n",
    "plt.title('Correlation Matrix for Ordinal Categoricals features')\n",
    "plt.show()"
   ]
  },
  {
   "cell_type": "markdown",
   "metadata": {},
   "source": [
    "We can see there are variables that are highly correlated with each other. In order to ensure we do not run out into multicolinearity I will group all variables with a linear correlation higher than |0.5|. Ideally one will consider all possible combinations but just for illustration purposes I will just keep the variable of each group that had a higher AUC in the previous analysis."
   ]
  },
  {
   "cell_type": "code",
   "execution_count": 19,
   "metadata": {
    "scrolled": true
   },
   "outputs": [],
   "source": [
    "group1 = ['sum_paid_inv_0_12m', 'max_paid_inv_0_12m']\n",
    "group2 = ['max_paid_inv_0_12m', 'max_paid_inv_0_24m']\n",
    "group3 = ['sum_paid_inv_0_12m', 'num_arch_ok_0_12m', 'num_arch_ok_12_24m']\n",
    "group4 = ['status_2nd_last_archived_0_24m', 'status_3rd_last_archived_0_24m', 'status_last_archived_0_24m',\n",
    "          'status_max_archived_0_12_months', 'status_max_archived_0_24_months', 'status_max_archived_0_6_months']\n"
   ]
  },
  {
   "cell_type": "code",
   "execution_count": 20,
   "metadata": {},
   "outputs": [],
   "source": [
    "# Here below the finally selected features to feed the model\n",
    "features = ['age', 'num_unpaid_bills',\n",
    "            'merchant_category', 'merchant_group',\n",
    "            'max_paid_inv_0_12m', 'avg_payment_span_0_12m',\n",
    "            'status_max_archived_0_24_months', 'num_arch_ok_0_12m']"
   ]
  },
  {
   "cell_type": "markdown",
   "metadata": {},
   "source": [
    "Below we will train a Random Forest and a Logistic Regression looking for the best hyper-parametrization in order to get the final model. Once we have the best parametrization per method we will keep the method with the higher AUC"
   ]
  },
  {
   "cell_type": "code",
   "execution_count": 21,
   "metadata": {
    "scrolled": true
   },
   "outputs": [
    {
     "name": "stdout",
     "output_type": "stream",
     "text": [
      "Fitting 5 folds for each of 36 candidates, totalling 180 fits\n",
      "[CV 1/5] END RF__max_depth=30, RF__max_features=10, RF__max_samples=0.5, RF__min_samples_split=5;, score=0.874 total time=  22.4s\n",
      "[CV 2/5] END RF__max_depth=30, RF__max_features=10, RF__max_samples=0.5, RF__min_samples_split=5;, score=0.862 total time=  19.9s\n",
      "[CV 3/5] END RF__max_depth=30, RF__max_features=10, RF__max_samples=0.5, RF__min_samples_split=5;, score=0.839 total time=  21.2s\n",
      "[CV 4/5] END RF__max_depth=30, RF__max_features=10, RF__max_samples=0.5, RF__min_samples_split=5;, score=0.863 total time=  21.8s\n",
      "[CV 5/5] END RF__max_depth=30, RF__max_features=10, RF__max_samples=0.5, RF__min_samples_split=5;, score=0.869 total time=  20.3s\n",
      "[CV 1/5] END RF__max_depth=30, RF__max_features=10, RF__max_samples=0.5, RF__min_samples_split=10;, score=0.874 total time=  19.6s\n",
      "[CV 2/5] END RF__max_depth=30, RF__max_features=10, RF__max_samples=0.5, RF__min_samples_split=10;, score=0.861 total time=  19.5s\n",
      "[CV 3/5] END RF__max_depth=30, RF__max_features=10, RF__max_samples=0.5, RF__min_samples_split=10;, score=0.843 total time=  19.9s\n",
      "[CV 4/5] END RF__max_depth=30, RF__max_features=10, RF__max_samples=0.5, RF__min_samples_split=10;, score=0.860 total time=  19.9s\n",
      "[CV 5/5] END RF__max_depth=30, RF__max_features=10, RF__max_samples=0.5, RF__min_samples_split=10;, score=0.870 total time=  19.9s\n",
      "[CV 1/5] END RF__max_depth=30, RF__max_features=10, RF__max_samples=0.8, RF__min_samples_split=5;, score=0.871 total time=  26.5s\n",
      "[CV 2/5] END RF__max_depth=30, RF__max_features=10, RF__max_samples=0.8, RF__min_samples_split=5;, score=0.854 total time=  27.9s\n",
      "[CV 3/5] END RF__max_depth=30, RF__max_features=10, RF__max_samples=0.8, RF__min_samples_split=5;, score=0.838 total time=  26.2s\n",
      "[CV 4/5] END RF__max_depth=30, RF__max_features=10, RF__max_samples=0.8, RF__min_samples_split=5;, score=0.859 total time=  33.1s\n",
      "[CV 5/5] END RF__max_depth=30, RF__max_features=10, RF__max_samples=0.8, RF__min_samples_split=5;, score=0.871 total time=  26.2s\n",
      "[CV 1/5] END RF__max_depth=30, RF__max_features=10, RF__max_samples=0.8, RF__min_samples_split=10;, score=0.872 total time=  26.1s\n",
      "[CV 2/5] END RF__max_depth=30, RF__max_features=10, RF__max_samples=0.8, RF__min_samples_split=10;, score=0.861 total time=  25.0s\n",
      "[CV 3/5] END RF__max_depth=30, RF__max_features=10, RF__max_samples=0.8, RF__min_samples_split=10;, score=0.843 total time=  25.3s\n",
      "[CV 4/5] END RF__max_depth=30, RF__max_features=10, RF__max_samples=0.8, RF__min_samples_split=10;, score=0.864 total time=  24.9s\n",
      "[CV 5/5] END RF__max_depth=30, RF__max_features=10, RF__max_samples=0.8, RF__min_samples_split=10;, score=0.866 total time=  24.7s\n",
      "[CV 1/5] END RF__max_depth=30, RF__max_features=10, RF__max_samples=None, RF__min_samples_split=5;, score=0.869 total time=  28.0s\n",
      "[CV 2/5] END RF__max_depth=30, RF__max_features=10, RF__max_samples=None, RF__min_samples_split=5;, score=0.856 total time=  30.8s\n",
      "[CV 3/5] END RF__max_depth=30, RF__max_features=10, RF__max_samples=None, RF__min_samples_split=5;, score=0.838 total time=  28.9s\n",
      "[CV 4/5] END RF__max_depth=30, RF__max_features=10, RF__max_samples=None, RF__min_samples_split=5;, score=0.861 total time=  27.5s\n",
      "[CV 5/5] END RF__max_depth=30, RF__max_features=10, RF__max_samples=None, RF__min_samples_split=5;, score=0.866 total time=  28.1s\n",
      "[CV 1/5] END RF__max_depth=30, RF__max_features=10, RF__max_samples=None, RF__min_samples_split=10;, score=0.873 total time=  27.9s\n",
      "[CV 2/5] END RF__max_depth=30, RF__max_features=10, RF__max_samples=None, RF__min_samples_split=10;, score=0.857 total time=  27.4s\n",
      "[CV 3/5] END RF__max_depth=30, RF__max_features=10, RF__max_samples=None, RF__min_samples_split=10;, score=0.838 total time=  29.3s\n",
      "[CV 4/5] END RF__max_depth=30, RF__max_features=10, RF__max_samples=None, RF__min_samples_split=10;, score=0.860 total time=  28.4s\n",
      "[CV 5/5] END RF__max_depth=30, RF__max_features=10, RF__max_samples=None, RF__min_samples_split=10;, score=0.872 total time=  28.5s\n",
      "[CV 1/5] END RF__max_depth=30, RF__max_features=20, RF__max_samples=0.5, RF__min_samples_split=5;, score=0.863 total time=  26.6s\n",
      "[CV 2/5] END RF__max_depth=30, RF__max_features=20, RF__max_samples=0.5, RF__min_samples_split=5;, score=0.852 total time=  25.8s\n",
      "[CV 3/5] END RF__max_depth=30, RF__max_features=20, RF__max_samples=0.5, RF__min_samples_split=5;, score=0.827 total time=  26.4s\n",
      "[CV 4/5] END RF__max_depth=30, RF__max_features=20, RF__max_samples=0.5, RF__min_samples_split=5;, score=0.845 total time=  26.8s\n",
      "[CV 5/5] END RF__max_depth=30, RF__max_features=20, RF__max_samples=0.5, RF__min_samples_split=5;, score=0.862 total time=  25.2s\n",
      "[CV 1/5] END RF__max_depth=30, RF__max_features=20, RF__max_samples=0.5, RF__min_samples_split=10;, score=0.864 total time=  26.8s\n",
      "[CV 2/5] END RF__max_depth=30, RF__max_features=20, RF__max_samples=0.5, RF__min_samples_split=10;, score=0.854 total time=  26.3s\n",
      "[CV 3/5] END RF__max_depth=30, RF__max_features=20, RF__max_samples=0.5, RF__min_samples_split=10;, score=0.840 total time=  25.2s\n",
      "[CV 4/5] END RF__max_depth=30, RF__max_features=20, RF__max_samples=0.5, RF__min_samples_split=10;, score=0.847 total time=  24.7s\n",
      "[CV 5/5] END RF__max_depth=30, RF__max_features=20, RF__max_samples=0.5, RF__min_samples_split=10;, score=0.863 total time=  22.6s\n",
      "[CV 1/5] END RF__max_depth=30, RF__max_features=20, RF__max_samples=0.8, RF__min_samples_split=5;, score=0.861 total time=  29.6s\n",
      "[CV 2/5] END RF__max_depth=30, RF__max_features=20, RF__max_samples=0.8, RF__min_samples_split=5;, score=0.845 total time=  29.9s\n",
      "[CV 3/5] END RF__max_depth=30, RF__max_features=20, RF__max_samples=0.8, RF__min_samples_split=5;, score=0.826 total time=  33.5s\n",
      "[CV 4/5] END RF__max_depth=30, RF__max_features=20, RF__max_samples=0.8, RF__min_samples_split=5;, score=0.848 total time=  33.4s\n",
      "[CV 5/5] END RF__max_depth=30, RF__max_features=20, RF__max_samples=0.8, RF__min_samples_split=5;, score=0.855 total time=  30.1s\n",
      "[CV 1/5] END RF__max_depth=30, RF__max_features=20, RF__max_samples=0.8, RF__min_samples_split=10;, score=0.861 total time=  29.8s\n",
      "[CV 2/5] END RF__max_depth=30, RF__max_features=20, RF__max_samples=0.8, RF__min_samples_split=10;, score=0.848 total time=  29.5s\n",
      "[CV 3/5] END RF__max_depth=30, RF__max_features=20, RF__max_samples=0.8, RF__min_samples_split=10;, score=0.833 total time=  31.5s\n",
      "[CV 4/5] END RF__max_depth=30, RF__max_features=20, RF__max_samples=0.8, RF__min_samples_split=10;, score=0.845 total time=  32.2s\n",
      "[CV 5/5] END RF__max_depth=30, RF__max_features=20, RF__max_samples=0.8, RF__min_samples_split=10;, score=0.864 total time=  31.9s\n",
      "[CV 1/5] END RF__max_depth=30, RF__max_features=20, RF__max_samples=None, RF__min_samples_split=5;, score=0.862 total time=  36.8s\n",
      "[CV 2/5] END RF__max_depth=30, RF__max_features=20, RF__max_samples=None, RF__min_samples_split=5;, score=0.836 total time=  38.0s\n",
      "[CV 3/5] END RF__max_depth=30, RF__max_features=20, RF__max_samples=None, RF__min_samples_split=5;, score=0.827 total time=  37.4s\n",
      "[CV 4/5] END RF__max_depth=30, RF__max_features=20, RF__max_samples=None, RF__min_samples_split=5;, score=0.841 total time=  42.8s\n",
      "[CV 5/5] END RF__max_depth=30, RF__max_features=20, RF__max_samples=None, RF__min_samples_split=5;, score=0.853 total time=  40.3s\n",
      "[CV 1/5] END RF__max_depth=30, RF__max_features=20, RF__max_samples=None, RF__min_samples_split=10;, score=0.856 total time=  37.6s\n",
      "[CV 2/5] END RF__max_depth=30, RF__max_features=20, RF__max_samples=None, RF__min_samples_split=10;, score=0.845 total time=  33.6s\n",
      "[CV 3/5] END RF__max_depth=30, RF__max_features=20, RF__max_samples=None, RF__min_samples_split=10;, score=0.838 total time=  33.6s\n",
      "[CV 4/5] END RF__max_depth=30, RF__max_features=20, RF__max_samples=None, RF__min_samples_split=10;, score=0.848 total time=  34.4s\n",
      "[CV 5/5] END RF__max_depth=30, RF__max_features=20, RF__max_samples=None, RF__min_samples_split=10;, score=0.861 total time=  33.3s\n",
      "[CV 1/5] END RF__max_depth=30, RF__max_features=auto, RF__max_samples=0.5, RF__min_samples_split=5;, score=0.872 total time=  17.5s\n",
      "[CV 2/5] END RF__max_depth=30, RF__max_features=auto, RF__max_samples=0.5, RF__min_samples_split=5;, score=0.862 total time=  17.4s\n",
      "[CV 3/5] END RF__max_depth=30, RF__max_features=auto, RF__max_samples=0.5, RF__min_samples_split=5;, score=0.841 total time=  16.5s\n"
     ]
    },
    {
     "name": "stdout",
     "output_type": "stream",
     "text": [
      "[CV 4/5] END RF__max_depth=30, RF__max_features=auto, RF__max_samples=0.5, RF__min_samples_split=5;, score=0.854 total time=  13.5s\n",
      "[CV 5/5] END RF__max_depth=30, RF__max_features=auto, RF__max_samples=0.5, RF__min_samples_split=5;, score=0.869 total time=  15.0s\n",
      "[CV 1/5] END RF__max_depth=30, RF__max_features=auto, RF__max_samples=0.5, RF__min_samples_split=10;, score=0.875 total time=  14.8s\n",
      "[CV 2/5] END RF__max_depth=30, RF__max_features=auto, RF__max_samples=0.5, RF__min_samples_split=10;, score=0.866 total time=  14.8s\n",
      "[CV 3/5] END RF__max_depth=30, RF__max_features=auto, RF__max_samples=0.5, RF__min_samples_split=10;, score=0.847 total time=  14.3s\n",
      "[CV 4/5] END RF__max_depth=30, RF__max_features=auto, RF__max_samples=0.5, RF__min_samples_split=10;, score=0.861 total time=  14.1s\n",
      "[CV 5/5] END RF__max_depth=30, RF__max_features=auto, RF__max_samples=0.5, RF__min_samples_split=10;, score=0.872 total time=  14.0s\n",
      "[CV 1/5] END RF__max_depth=30, RF__max_features=auto, RF__max_samples=0.8, RF__min_samples_split=5;, score=0.868 total time=  17.7s\n",
      "[CV 2/5] END RF__max_depth=30, RF__max_features=auto, RF__max_samples=0.8, RF__min_samples_split=5;, score=0.855 total time=  17.7s\n",
      "[CV 3/5] END RF__max_depth=30, RF__max_features=auto, RF__max_samples=0.8, RF__min_samples_split=5;, score=0.844 total time=  17.7s\n",
      "[CV 4/5] END RF__max_depth=30, RF__max_features=auto, RF__max_samples=0.8, RF__min_samples_split=5;, score=0.862 total time=  17.5s\n",
      "[CV 5/5] END RF__max_depth=30, RF__max_features=auto, RF__max_samples=0.8, RF__min_samples_split=5;, score=0.866 total time=  17.4s\n",
      "[CV 1/5] END RF__max_depth=30, RF__max_features=auto, RF__max_samples=0.8, RF__min_samples_split=10;, score=0.875 total time=  17.4s\n",
      "[CV 2/5] END RF__max_depth=30, RF__max_features=auto, RF__max_samples=0.8, RF__min_samples_split=10;, score=0.858 total time=  17.6s\n",
      "[CV 3/5] END RF__max_depth=30, RF__max_features=auto, RF__max_samples=0.8, RF__min_samples_split=10;, score=0.843 total time=  16.4s\n",
      "[CV 4/5] END RF__max_depth=30, RF__max_features=auto, RF__max_samples=0.8, RF__min_samples_split=10;, score=0.861 total time=  17.0s\n",
      "[CV 5/5] END RF__max_depth=30, RF__max_features=auto, RF__max_samples=0.8, RF__min_samples_split=10;, score=0.867 total time=  17.8s\n",
      "[CV 1/5] END RF__max_depth=30, RF__max_features=auto, RF__max_samples=None, RF__min_samples_split=5;, score=0.871 total time=  18.9s\n",
      "[CV 2/5] END RF__max_depth=30, RF__max_features=auto, RF__max_samples=None, RF__min_samples_split=5;, score=0.858 total time=  19.3s\n",
      "[CV 3/5] END RF__max_depth=30, RF__max_features=auto, RF__max_samples=None, RF__min_samples_split=5;, score=0.835 total time=  19.4s\n",
      "[CV 4/5] END RF__max_depth=30, RF__max_features=auto, RF__max_samples=None, RF__min_samples_split=5;, score=0.864 total time=  19.1s\n",
      "[CV 5/5] END RF__max_depth=30, RF__max_features=auto, RF__max_samples=None, RF__min_samples_split=5;, score=0.863 total time=  19.2s\n",
      "[CV 1/5] END RF__max_depth=30, RF__max_features=auto, RF__max_samples=None, RF__min_samples_split=10;, score=0.874 total time=  18.7s\n",
      "[CV 2/5] END RF__max_depth=30, RF__max_features=auto, RF__max_samples=None, RF__min_samples_split=10;, score=0.859 total time=  18.8s\n",
      "[CV 3/5] END RF__max_depth=30, RF__max_features=auto, RF__max_samples=None, RF__min_samples_split=10;, score=0.841 total time=  18.9s\n",
      "[CV 4/5] END RF__max_depth=30, RF__max_features=auto, RF__max_samples=None, RF__min_samples_split=10;, score=0.862 total time=  19.1s\n",
      "[CV 5/5] END RF__max_depth=30, RF__max_features=auto, RF__max_samples=None, RF__min_samples_split=10;, score=0.872 total time=  19.1s\n",
      "[CV 1/5] END RF__max_depth=50, RF__max_features=10, RF__max_samples=0.5, RF__min_samples_split=5;, score=0.838 total time=  15.7s\n",
      "[CV 2/5] END RF__max_depth=50, RF__max_features=10, RF__max_samples=0.5, RF__min_samples_split=5;, score=0.823 total time=  15.7s\n",
      "[CV 3/5] END RF__max_depth=50, RF__max_features=10, RF__max_samples=0.5, RF__min_samples_split=5;, score=0.830 total time=  15.7s\n",
      "[CV 4/5] END RF__max_depth=50, RF__max_features=10, RF__max_samples=0.5, RF__min_samples_split=5;, score=0.826 total time=  15.6s\n",
      "[CV 5/5] END RF__max_depth=50, RF__max_features=10, RF__max_samples=0.5, RF__min_samples_split=5;, score=0.830 total time=  15.4s\n",
      "[CV 1/5] END RF__max_depth=50, RF__max_features=10, RF__max_samples=0.5, RF__min_samples_split=10;, score=0.846 total time=  15.5s\n",
      "[CV 2/5] END RF__max_depth=50, RF__max_features=10, RF__max_samples=0.5, RF__min_samples_split=10;, score=0.836 total time=  14.6s\n",
      "[CV 3/5] END RF__max_depth=50, RF__max_features=10, RF__max_samples=0.5, RF__min_samples_split=10;, score=0.834 total time=  14.8s\n",
      "[CV 4/5] END RF__max_depth=50, RF__max_features=10, RF__max_samples=0.5, RF__min_samples_split=10;, score=0.840 total time=  15.0s\n",
      "[CV 5/5] END RF__max_depth=50, RF__max_features=10, RF__max_samples=0.5, RF__min_samples_split=10;, score=0.845 total time=  15.4s\n",
      "[CV 1/5] END RF__max_depth=50, RF__max_features=10, RF__max_samples=0.8, RF__min_samples_split=5;, score=0.835 total time=  18.7s\n",
      "[CV 2/5] END RF__max_depth=50, RF__max_features=10, RF__max_samples=0.8, RF__min_samples_split=5;, score=0.811 total time=  18.7s\n",
      "[CV 3/5] END RF__max_depth=50, RF__max_features=10, RF__max_samples=0.8, RF__min_samples_split=5;, score=0.821 total time=  18.7s\n",
      "[CV 4/5] END RF__max_depth=50, RF__max_features=10, RF__max_samples=0.8, RF__min_samples_split=5;, score=0.830 total time=  18.7s\n",
      "[CV 5/5] END RF__max_depth=50, RF__max_features=10, RF__max_samples=0.8, RF__min_samples_split=5;, score=0.821 total time=  19.7s\n",
      "[CV 1/5] END RF__max_depth=50, RF__max_features=10, RF__max_samples=0.8, RF__min_samples_split=10;, score=0.846 total time=  18.7s\n",
      "[CV 2/5] END RF__max_depth=50, RF__max_features=10, RF__max_samples=0.8, RF__min_samples_split=10;, score=0.827 total time=  18.2s\n",
      "[CV 3/5] END RF__max_depth=50, RF__max_features=10, RF__max_samples=0.8, RF__min_samples_split=10;, score=0.831 total time=  17.8s\n",
      "[CV 4/5] END RF__max_depth=50, RF__max_features=10, RF__max_samples=0.8, RF__min_samples_split=10;, score=0.838 total time=  17.7s\n",
      "[CV 5/5] END RF__max_depth=50, RF__max_features=10, RF__max_samples=0.8, RF__min_samples_split=10;, score=0.839 total time=  17.9s\n",
      "[CV 1/5] END RF__max_depth=50, RF__max_features=10, RF__max_samples=None, RF__min_samples_split=5;, score=0.832 total time=  19.7s\n",
      "[CV 2/5] END RF__max_depth=50, RF__max_features=10, RF__max_samples=None, RF__min_samples_split=5;, score=0.810 total time=  19.7s\n",
      "[CV 3/5] END RF__max_depth=50, RF__max_features=10, RF__max_samples=None, RF__min_samples_split=5;, score=0.822 total time=  19.5s\n",
      "[CV 4/5] END RF__max_depth=50, RF__max_features=10, RF__max_samples=None, RF__min_samples_split=5;, score=0.820 total time=  20.5s\n",
      "[CV 5/5] END RF__max_depth=50, RF__max_features=10, RF__max_samples=None, RF__min_samples_split=5;, score=0.824 total time=  20.6s\n",
      "[CV 1/5] END RF__max_depth=50, RF__max_features=10, RF__max_samples=None, RF__min_samples_split=10;, score=0.834 total time=  22.5s\n",
      "[CV 2/5] END RF__max_depth=50, RF__max_features=10, RF__max_samples=None, RF__min_samples_split=10;, score=0.821 total time=  20.1s\n",
      "[CV 3/5] END RF__max_depth=50, RF__max_features=10, RF__max_samples=None, RF__min_samples_split=10;, score=0.819 total time=  20.4s\n",
      "[CV 4/5] END RF__max_depth=50, RF__max_features=10, RF__max_samples=None, RF__min_samples_split=10;, score=0.830 total time=  21.0s\n",
      "[CV 5/5] END RF__max_depth=50, RF__max_features=10, RF__max_samples=None, RF__min_samples_split=10;, score=0.835 total time=  20.5s\n",
      "[CV 1/5] END RF__max_depth=50, RF__max_features=20, RF__max_samples=0.5, RF__min_samples_split=5;, score=0.844 total time=  19.0s\n",
      "[CV 2/5] END RF__max_depth=50, RF__max_features=20, RF__max_samples=0.5, RF__min_samples_split=5;, score=0.828 total time=  18.2s\n",
      "[CV 3/5] END RF__max_depth=50, RF__max_features=20, RF__max_samples=0.5, RF__min_samples_split=5;, score=0.825 total time=  18.7s\n",
      "[CV 4/5] END RF__max_depth=50, RF__max_features=20, RF__max_samples=0.5, RF__min_samples_split=5;, score=0.829 total time=  19.0s\n",
      "[CV 5/5] END RF__max_depth=50, RF__max_features=20, RF__max_samples=0.5, RF__min_samples_split=5;, score=0.832 total time=  19.0s\n",
      "[CV 1/5] END RF__max_depth=50, RF__max_features=20, RF__max_samples=0.5, RF__min_samples_split=10;, score=0.853 total time=  19.0s\n"
     ]
    },
    {
     "name": "stdout",
     "output_type": "stream",
     "text": [
      "[CV 2/5] END RF__max_depth=50, RF__max_features=20, RF__max_samples=0.5, RF__min_samples_split=10;, score=0.835 total time=  18.9s\n",
      "[CV 3/5] END RF__max_depth=50, RF__max_features=20, RF__max_samples=0.5, RF__min_samples_split=10;, score=0.838 total time=  18.6s\n",
      "[CV 4/5] END RF__max_depth=50, RF__max_features=20, RF__max_samples=0.5, RF__min_samples_split=10;, score=0.834 total time=  19.0s\n",
      "[CV 5/5] END RF__max_depth=50, RF__max_features=20, RF__max_samples=0.5, RF__min_samples_split=10;, score=0.847 total time=  18.8s\n",
      "[CV 1/5] END RF__max_depth=50, RF__max_features=20, RF__max_samples=0.8, RF__min_samples_split=5;, score=0.839 total time=  24.5s\n",
      "[CV 2/5] END RF__max_depth=50, RF__max_features=20, RF__max_samples=0.8, RF__min_samples_split=5;, score=0.813 total time=  23.5s\n",
      "[CV 3/5] END RF__max_depth=50, RF__max_features=20, RF__max_samples=0.8, RF__min_samples_split=5;, score=0.816 total time=  23.8s\n",
      "[CV 4/5] END RF__max_depth=50, RF__max_features=20, RF__max_samples=0.8, RF__min_samples_split=5;, score=0.815 total time=  24.1s\n",
      "[CV 5/5] END RF__max_depth=50, RF__max_features=20, RF__max_samples=0.8, RF__min_samples_split=5;, score=0.831 total time=  24.1s\n",
      "[CV 1/5] END RF__max_depth=50, RF__max_features=20, RF__max_samples=0.8, RF__min_samples_split=10;, score=0.837 total time=  24.2s\n",
      "[CV 2/5] END RF__max_depth=50, RF__max_features=20, RF__max_samples=0.8, RF__min_samples_split=10;, score=0.818 total time=  24.3s\n",
      "[CV 3/5] END RF__max_depth=50, RF__max_features=20, RF__max_samples=0.8, RF__min_samples_split=10;, score=0.822 total time=  23.9s\n",
      "[CV 4/5] END RF__max_depth=50, RF__max_features=20, RF__max_samples=0.8, RF__min_samples_split=10;, score=0.828 total time=  24.4s\n",
      "[CV 5/5] END RF__max_depth=50, RF__max_features=20, RF__max_samples=0.8, RF__min_samples_split=10;, score=0.848 total time=  24.5s\n",
      "[CV 1/5] END RF__max_depth=50, RF__max_features=20, RF__max_samples=None, RF__min_samples_split=5;, score=0.837 total time=  27.4s\n",
      "[CV 2/5] END RF__max_depth=50, RF__max_features=20, RF__max_samples=None, RF__min_samples_split=5;, score=0.814 total time=  26.9s\n",
      "[CV 3/5] END RF__max_depth=50, RF__max_features=20, RF__max_samples=None, RF__min_samples_split=5;, score=0.814 total time=  25.1s\n",
      "[CV 4/5] END RF__max_depth=50, RF__max_features=20, RF__max_samples=None, RF__min_samples_split=5;, score=0.813 total time=  25.9s\n",
      "[CV 5/5] END RF__max_depth=50, RF__max_features=20, RF__max_samples=None, RF__min_samples_split=5;, score=0.820 total time=  25.7s\n",
      "[CV 1/5] END RF__max_depth=50, RF__max_features=20, RF__max_samples=None, RF__min_samples_split=10;, score=0.833 total time=  26.3s\n",
      "[CV 2/5] END RF__max_depth=50, RF__max_features=20, RF__max_samples=None, RF__min_samples_split=10;, score=0.825 total time=  26.6s\n",
      "[CV 3/5] END RF__max_depth=50, RF__max_features=20, RF__max_samples=None, RF__min_samples_split=10;, score=0.825 total time=  26.6s\n",
      "[CV 4/5] END RF__max_depth=50, RF__max_features=20, RF__max_samples=None, RF__min_samples_split=10;, score=0.821 total time=  27.1s\n",
      "[CV 5/5] END RF__max_depth=50, RF__max_features=20, RF__max_samples=None, RF__min_samples_split=10;, score=0.841 total time=  27.2s\n",
      "[CV 1/5] END RF__max_depth=50, RF__max_features=auto, RF__max_samples=0.5, RF__min_samples_split=5;, score=0.841 total time=  14.7s\n",
      "[CV 2/5] END RF__max_depth=50, RF__max_features=auto, RF__max_samples=0.5, RF__min_samples_split=5;, score=0.824 total time=  14.9s\n",
      "[CV 3/5] END RF__max_depth=50, RF__max_features=auto, RF__max_samples=0.5, RF__min_samples_split=5;, score=0.826 total time=  14.8s\n",
      "[CV 4/5] END RF__max_depth=50, RF__max_features=auto, RF__max_samples=0.5, RF__min_samples_split=5;, score=0.821 total time=  14.9s\n",
      "[CV 5/5] END RF__max_depth=50, RF__max_features=auto, RF__max_samples=0.5, RF__min_samples_split=5;, score=0.842 total time=  14.9s\n",
      "[CV 1/5] END RF__max_depth=50, RF__max_features=auto, RF__max_samples=0.5, RF__min_samples_split=10;, score=0.847 total time=  16.1s\n",
      "[CV 2/5] END RF__max_depth=50, RF__max_features=auto, RF__max_samples=0.5, RF__min_samples_split=10;, score=0.836 total time=  14.8s\n",
      "[CV 3/5] END RF__max_depth=50, RF__max_features=auto, RF__max_samples=0.5, RF__min_samples_split=10;, score=0.828 total time=  14.9s\n",
      "[CV 4/5] END RF__max_depth=50, RF__max_features=auto, RF__max_samples=0.5, RF__min_samples_split=10;, score=0.830 total time=  14.9s\n",
      "[CV 5/5] END RF__max_depth=50, RF__max_features=auto, RF__max_samples=0.5, RF__min_samples_split=10;, score=0.853 total time=  14.8s\n",
      "[CV 1/5] END RF__max_depth=50, RF__max_features=auto, RF__max_samples=0.8, RF__min_samples_split=5;, score=0.830 total time=  17.8s\n",
      "[CV 2/5] END RF__max_depth=50, RF__max_features=auto, RF__max_samples=0.8, RF__min_samples_split=5;, score=0.811 total time=  18.4s\n",
      "[CV 3/5] END RF__max_depth=50, RF__max_features=auto, RF__max_samples=0.8, RF__min_samples_split=5;, score=0.813 total time=  17.5s\n",
      "[CV 4/5] END RF__max_depth=50, RF__max_features=auto, RF__max_samples=0.8, RF__min_samples_split=5;, score=0.814 total time=  17.5s\n",
      "[CV 5/5] END RF__max_depth=50, RF__max_features=auto, RF__max_samples=0.8, RF__min_samples_split=5;, score=0.828 total time=  17.9s\n",
      "[CV 1/5] END RF__max_depth=50, RF__max_features=auto, RF__max_samples=0.8, RF__min_samples_split=10;, score=0.842 total time=  17.7s\n",
      "[CV 2/5] END RF__max_depth=50, RF__max_features=auto, RF__max_samples=0.8, RF__min_samples_split=10;, score=0.823 total time=  17.8s\n",
      "[CV 3/5] END RF__max_depth=50, RF__max_features=auto, RF__max_samples=0.8, RF__min_samples_split=10;, score=0.828 total time=  17.7s\n",
      "[CV 4/5] END RF__max_depth=50, RF__max_features=auto, RF__max_samples=0.8, RF__min_samples_split=10;, score=0.829 total time=  17.7s\n",
      "[CV 5/5] END RF__max_depth=50, RF__max_features=auto, RF__max_samples=0.8, RF__min_samples_split=10;, score=0.839 total time=  18.2s\n",
      "[CV 1/5] END RF__max_depth=50, RF__max_features=auto, RF__max_samples=None, RF__min_samples_split=5;, score=0.839 total time=  19.4s\n",
      "[CV 2/5] END RF__max_depth=50, RF__max_features=auto, RF__max_samples=None, RF__min_samples_split=5;, score=0.812 total time=  19.3s\n",
      "[CV 3/5] END RF__max_depth=50, RF__max_features=auto, RF__max_samples=None, RF__min_samples_split=5;, score=0.819 total time=  19.6s\n",
      "[CV 4/5] END RF__max_depth=50, RF__max_features=auto, RF__max_samples=None, RF__min_samples_split=5;, score=0.823 total time=  19.3s\n",
      "[CV 5/5] END RF__max_depth=50, RF__max_features=auto, RF__max_samples=None, RF__min_samples_split=5;, score=0.829 total time=  20.0s\n",
      "[CV 1/5] END RF__max_depth=50, RF__max_features=auto, RF__max_samples=None, RF__min_samples_split=10;, score=0.835 total time=  18.7s\n",
      "[CV 2/5] END RF__max_depth=50, RF__max_features=auto, RF__max_samples=None, RF__min_samples_split=10;, score=0.814 total time=  18.3s\n",
      "[CV 3/5] END RF__max_depth=50, RF__max_features=auto, RF__max_samples=None, RF__min_samples_split=10;, score=0.822 total time=  18.6s\n",
      "[CV 4/5] END RF__max_depth=50, RF__max_features=auto, RF__max_samples=None, RF__min_samples_split=10;, score=0.828 total time=  18.1s\n",
      "[CV 5/5] END RF__max_depth=50, RF__max_features=auto, RF__max_samples=None, RF__min_samples_split=10;, score=0.833 total time=  19.8s\n",
      "Fitting 5 folds for each of 2 candidates, totalling 10 fits\n",
      "[CV 1/5] END .............LgR__solver=newton-cg;, score=0.841 total time=  35.4s\n",
      "[CV 2/5] END .............LgR__solver=newton-cg;, score=0.835 total time=  32.1s\n",
      "[CV 3/5] END .............LgR__solver=newton-cg;, score=0.828 total time=  35.9s\n",
      "[CV 4/5] END .............LgR__solver=newton-cg;, score=0.829 total time=  35.6s\n",
      "[CV 5/5] END .............LgR__solver=newton-cg;, score=0.830 total time=  40.0s\n",
      "[CV 1/5] END .................LgR__solver=lbfgs;, score=0.841 total time= 1.2min\n",
      "[CV 2/5] END .................LgR__solver=lbfgs;, score=0.835 total time= 1.3min\n",
      "[CV 3/5] END .................LgR__solver=lbfgs;, score=0.828 total time= 1.3min\n",
      "[CV 4/5] END .................LgR__solver=lbfgs;, score=0.829 total time= 1.3min\n",
      "[CV 5/5] END .................LgR__solver=lbfgs;, score=0.830 total time= 1.2min\n"
     ]
    }
   ],
   "source": [
    "# Data\n",
    "y = dataset['default']\n",
    "X = dataset[features].reset_index(drop=True)\n",
    "\n",
    "#Encoder\n",
    "enc = OneHotEncoder(categories=\"auto\", handle_unknown=\"error\", drop='first', sparse=False)\n",
    "X_ohe = pd.DataFrame(enc.fit_transform(X[cat_fields]), columns=enc.get_feature_names_out()).reset_index(drop=True)\n",
    "X = pd.concat([X.drop(columns=cat_fields, axis=1), X_ohe], axis=1)\n",
    "\n",
    "# Defining the Pipeline for RF\n",
    "model_rf = PipelineImb([\n",
    "\n",
    "                     ('Imputer', SimpleImputer(missing_values=np.nan, strategy=\"median\")), \n",
    "                     ('Scaling', MinMaxScaler(clip=True)),\n",
    "                     ('oversampling', SMOTE(random_state=42)), \n",
    "                     ('RF', RandomForestClassifier(n_jobs=-1, oob_score = True, random_state=42))\n",
    "\n",
    "                        ])\n",
    "\n",
    "# Defining the grid\n",
    "param_grid_rf = {\n",
    "\n",
    "                     'RF__max_features': [10, 20, 'auto'],\n",
    "                     'RF__min_samples_split': [5, 10],\n",
    "                     'RF__max_depth': [30, 50],\n",
    "                     'RF__max_samples': [0.5, 0.8, None]\n",
    "\n",
    "                }\n",
    "\n",
    "# Searching best hyper-parametrization\n",
    "CV_rf = GridSearchCV(model_rf, param_grid=param_grid_rf, cv=5, scoring='roc_auc', verbose=4)\n",
    "res_rf = CV_rf.fit(X, y)\n",
    "\n",
    "\n",
    "# --------------------------------------------------------------------------------------------------------------------------\n",
    "\n",
    "# Defining the Pipeline for LgR\n",
    "model_lgr = PipelineImb([\n",
    "\n",
    "                     ('Imputer', SimpleImputer(missing_values=np.nan, strategy=\"median\")), \n",
    "                     ('Scaling', MinMaxScaler(clip=True)),\n",
    "                     ('oversampling', SMOTE(random_state=42)), \n",
    "                     ('LgR', LogisticRegression(n_jobs=-1, max_iter = 1000, random_state=42))\n",
    "\n",
    "                    ])\n",
    "\n",
    "# Defining the grid\n",
    "param_grid_lgr = {\n",
    "\n",
    "                    'LgR__solver': ['newton-cg', 'lbfgs']\n",
    "\n",
    "                 }\n",
    "\n",
    "# Searching best hyper-parametrization\n",
    "CV_lgr = GridSearchCV(model_lgr, param_grid=param_grid_lgr, cv=5, scoring='roc_auc', verbose=4)\n",
    "res_lgr = CV_lgr.fit(X, y)"
   ]
  },
  {
   "cell_type": "code",
   "execution_count": 22,
   "metadata": {},
   "outputs": [
    {
     "name": "stdout",
     "output_type": "stream",
     "text": [
      "The best Score for Random Forest is: 0.8639929861266212\n",
      "The best Score for Logistic Regression is: 0.832488539793087\n"
     ]
    }
   ],
   "source": [
    "print(f'The best Score for Random Forest is: {res_rf.best_score_}')\n",
    "print(f'The best Score for Logistic Regression is: {res_lgr.best_score_}')"
   ]
  },
  {
   "cell_type": "code",
   "execution_count": 23,
   "metadata": {},
   "outputs": [
    {
     "name": "stdout",
     "output_type": "stream",
     "text": [
      "The best RF hyper-parametrization is: {'RF__max_depth': 30, 'RF__max_features': 'auto', 'RF__max_samples': 0.5, 'RF__min_samples_split': 10}\n",
      "The best LgR hyper-parametrization is: {'LgR__solver': 'lbfgs'}\n"
     ]
    }
   ],
   "source": [
    "print(f'The best RF hyper-parametrization is: {res_rf.best_params_}')\n",
    "print(f'The best LgR hyper-parametrization is: {res_lgr.best_params_}')"
   ]
  },
  {
   "cell_type": "markdown",
   "metadata": {},
   "source": [
    "We can see that Random Forest outperforms the Logistic Regression in terms of AUC, then we will use RF as our predictive model. Now we train the model in the whole dataset by just updating the RF pipeline and fitting it on X and y."
   ]
  },
  {
   "cell_type": "code",
   "execution_count": 24,
   "metadata": {},
   "outputs": [],
   "source": [
    "y = dataset['default']\n",
    "X = dataset[features].reset_index(drop=True)\n",
    "\n",
    "#Encoder\n",
    "enc = OneHotEncoder(categories=\"auto\", handle_unknown=\"error\", drop='first', sparse=False)\n",
    "X_ohe = pd.DataFrame(enc.fit_transform(X[cat_fields]), columns=enc.get_feature_names_out()).reset_index(drop=True)\n",
    "X = pd.concat([X.drop(columns=cat_fields, axis=1), X_ohe], axis=1)\n",
    "\n",
    "model_rf.set_params(**res_rf.best_params_) # Updating the pipeline with the appropriate parametrization\n",
    "res = model_rf.fit(X, y)\n",
    "\n",
    "pickle.dump(enc, open(r'../2. Scripts/pickles/ohe.pkl', 'wb'))\n",
    "pickle.dump(res, open(r'../2. Scripts/pickles/pipeline.pkl', 'wb'))"
   ]
  },
  {
   "cell_type": "markdown",
   "metadata": {},
   "source": [
    "Below we call an external function from a *.py file and compute the probability of default when it was missing"
   ]
  },
  {
   "cell_type": "code",
   "execution_count": 28,
   "metadata": {
    "scrolled": true
   },
   "outputs": [
    {
     "data": {
      "text/html": [
       "<div>\n",
       "<style scoped>\n",
       "    .dataframe tbody tr th:only-of-type {\n",
       "        vertical-align: middle;\n",
       "    }\n",
       "\n",
       "    .dataframe tbody tr th {\n",
       "        vertical-align: top;\n",
       "    }\n",
       "\n",
       "    .dataframe thead th {\n",
       "        text-align: right;\n",
       "    }\n",
       "</style>\n",
       "<table border=\"1\" class=\"dataframe\">\n",
       "  <thead>\n",
       "    <tr style=\"text-align: right;\">\n",
       "      <th></th>\n",
       "      <th>uuid</th>\n",
       "      <th>default</th>\n",
       "    </tr>\n",
       "  </thead>\n",
       "  <tbody>\n",
       "    <tr>\n",
       "      <th>0</th>\n",
       "      <td>6f6e6c6a-2081-4e6b-8eb3-4fd89b54b2d7</td>\n",
       "      <td>0.012742</td>\n",
       "    </tr>\n",
       "    <tr>\n",
       "      <th>1</th>\n",
       "      <td>f6f6d9f3-ef2b-4329-a388-c6a687f27e70</td>\n",
       "      <td>0.006101</td>\n",
       "    </tr>\n",
       "    <tr>\n",
       "      <th>2</th>\n",
       "      <td>e9c39869-1bc5-4375-b627-a2df70b445ea</td>\n",
       "      <td>0.045531</td>\n",
       "    </tr>\n",
       "    <tr>\n",
       "      <th>3</th>\n",
       "      <td>6beb88a3-9641-4381-beb6-c9a208664dd0</td>\n",
       "      <td>0.110516</td>\n",
       "    </tr>\n",
       "    <tr>\n",
       "      <th>4</th>\n",
       "      <td>bb89b735-72fe-42a4-ba06-d63be0f4ca36</td>\n",
       "      <td>0.230844</td>\n",
       "    </tr>\n",
       "    <tr>\n",
       "      <th>...</th>\n",
       "      <td>...</td>\n",
       "      <td>...</td>\n",
       "    </tr>\n",
       "    <tr>\n",
       "      <th>9995</th>\n",
       "      <td>5c03bc63-ea65-4ffd-aa7b-95ea9a46db34</td>\n",
       "      <td>0.000000</td>\n",
       "    </tr>\n",
       "    <tr>\n",
       "      <th>9996</th>\n",
       "      <td>f8db22f4-9819-420c-abbc-9ddf1843176e</td>\n",
       "      <td>0.098670</td>\n",
       "    </tr>\n",
       "    <tr>\n",
       "      <th>9997</th>\n",
       "      <td>b22e21ea-b1b2-4df3-b236-0ff6d5fdc0d8</td>\n",
       "      <td>0.643417</td>\n",
       "    </tr>\n",
       "    <tr>\n",
       "      <th>9998</th>\n",
       "      <td>bafcab15-9898-479c-b729-c9dda7edb78f</td>\n",
       "      <td>0.025839</td>\n",
       "    </tr>\n",
       "    <tr>\n",
       "      <th>9999</th>\n",
       "      <td>ac88f18c-96a6-49bc-9e9d-a780225914af</td>\n",
       "      <td>0.196353</td>\n",
       "    </tr>\n",
       "  </tbody>\n",
       "</table>\n",
       "<p>10000 rows × 2 columns</p>\n",
       "</div>"
      ],
      "text/plain": [
       "                                      uuid   default\n",
       "0     6f6e6c6a-2081-4e6b-8eb3-4fd89b54b2d7  0.012742\n",
       "1     f6f6d9f3-ef2b-4329-a388-c6a687f27e70  0.006101\n",
       "2     e9c39869-1bc5-4375-b627-a2df70b445ea  0.045531\n",
       "3     6beb88a3-9641-4381-beb6-c9a208664dd0  0.110516\n",
       "4     bb89b735-72fe-42a4-ba06-d63be0f4ca36  0.230844\n",
       "...                                    ...       ...\n",
       "9995  5c03bc63-ea65-4ffd-aa7b-95ea9a46db34  0.000000\n",
       "9996  f8db22f4-9819-420c-abbc-9ddf1843176e  0.098670\n",
       "9997  b22e21ea-b1b2-4df3-b236-0ff6d5fdc0d8  0.643417\n",
       "9998  bafcab15-9898-479c-b729-c9dda7edb78f  0.025839\n",
       "9999  ac88f18c-96a6-49bc-9e9d-a780225914af  0.196353\n",
       "\n",
       "[10000 rows x 2 columns]"
      ]
     },
     "execution_count": 28,
     "metadata": {},
     "output_type": "execute_result"
    }
   ],
   "source": [
    "from def_predictor import default_predictor\n",
    "default_predictor(data_for_prediction, r'../3. Output/predictions.csv')"
   ]
  },
  {
   "cell_type": "code",
   "execution_count": null,
   "metadata": {},
   "outputs": [],
   "source": []
  }
 ],
 "metadata": {
  "kernelspec": {
   "display_name": "Python 3 (ipykernel)",
   "language": "python",
   "name": "python3"
  },
  "language_info": {
   "codemirror_mode": {
    "name": "ipython",
    "version": 3
   },
   "file_extension": ".py",
   "mimetype": "text/x-python",
   "name": "python",
   "nbconvert_exporter": "python",
   "pygments_lexer": "ipython3",
   "version": "3.7.3"
  }
 },
 "nbformat": 4,
 "nbformat_minor": 2
}
